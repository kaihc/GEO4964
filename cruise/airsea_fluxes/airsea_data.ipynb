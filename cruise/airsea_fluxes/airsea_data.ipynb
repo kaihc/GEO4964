{
 "cells": [
  {
   "cell_type": "code",
   "execution_count": 1,
   "metadata": {},
   "outputs": [],
   "source": [
    "import numpy as np\n",
    "from matplotlib import pyplot as plt\n",
    "import gsw  \n",
    "import coare35vn"
   ]
  },
  {
   "attachments": {},
   "cell_type": "markdown",
   "metadata": {},
   "source": [
    "# Script to evaluate fluxes and length scales from bulk parameters\n",
    "Using COARE 3.5 for most parameters and GSW for thermal expansion and haline contraction coefficients. Note that the code containing the main output function for COARE has been adjusted to only return the values we need here.\n",
    "\n",
    "2023-04-26 _kaihc@met.no_ "
   ]
  },
  {
   "cell_type": "code",
   "execution_count": 2,
   "metadata": {},
   "outputs": [],
   "source": [
    "# Input data for COARE algorithm:\n",
    "windspeed = 5.4\n",
    "airTemperature = 7.8\n",
    "relativeHumidity = 50.0\n",
    "bulkSST = 7.4\n",
    "latitude = 59.9\n",
    "MSLP = 1011.1\n",
    "Hs = 0.2\n",
    "rain = 0.0 # mm/hour\n",
    "mastHeight = 8.0\n",
    "cloudCover = 7.0 # oktas\n",
    "QswIdeal = 663.0 # https://clearskycalculator.com/pyranometer.htm\n",
    "\n",
    "# Extra input data for GSW\n",
    "surfaceSalinity = 23.0\n",
    "dBar = 0.1 # ie. depth \n",
    "\n",
    "# Reference density and gravity\n",
    "g = 9.81\n",
    "rho0 = 1025.0"
   ]
  },
  {
   "cell_type": "code",
   "execution_count": 3,
   "metadata": {},
   "outputs": [],
   "source": [
    "# Calculate fluxes using COARE\n",
    "Cfrac = cloudCover/8.0\n",
    "albedo = 0.06\n",
    "Qshortwave = (1.0-albedo)*QswIdeal*(1-Cfrac**3)\n",
    "A = coare35vn.coare35vn(windspeed, airTemperature, relativeHumidity, bulkSST, P=MSLP, Rs=Qshortwave, sigH = Hs, zu=mastHeight, zt=mastHeight, zq=mastHeight, lat=latitude)\n",
    "tau, Qsensible, Qlatent, LWnet, QnetMinusSW, evaporation = A[0].T\n"
   ]
  },
  {
   "cell_type": "code",
   "execution_count": 4,
   "metadata": {},
   "outputs": [],
   "source": [
    "# Calculate thermal expansion and haline contraction coefficients\n",
    "alpha = gsw.alpha(surfaceSalinity, bulkSST, dBar)\n",
    "beta = gsw.beta(surfaceSalinity, bulkSST, dBar)\n",
    "Cp = gsw.cp_t_exact(surfaceSalinity, bulkSST, dBar)"
   ]
  },
  {
   "cell_type": "code",
   "execution_count": 5,
   "metadata": {},
   "outputs": [],
   "source": [
    "# Calculate the density flux\n",
    "evap = evaporation/3600. # conversion from mm/hour to kg/s/m².\n",
    "precip = rain/3600. # conversion from mm/hour to kg/s/m².\n",
    "Qnet = -QnetMinusSW + Qshortwave\n",
    "Ft = -Qnet/(rho0*Cp)\n",
    "Fs = (evap-precip)/(1-surfaceSalinity/1000)\n",
    "Qp = rho0*(alpha*Ft + beta*Fs) # density flux\n"
   ]
  },
  {
   "cell_type": "code",
   "execution_count": 6,
   "metadata": {},
   "outputs": [],
   "source": [
    "# Calculate buoyancy flux and Obukhov length\n",
    "Bf = -g*Qp/rho0\n",
    "ustar = np.sqrt(tau/rho0) # friction velocity\n",
    "kappa = 0.4 # von Karman constant\n",
    "L = -ustar**3/(kappa*Bf)"
   ]
  },
  {
   "cell_type": "code",
   "execution_count": 7,
   "metadata": {},
   "outputs": [
    {
     "name": "stdout",
     "output_type": "stream",
     "text": [
      "Summary of fluxes defined as positive into the ocean:\n",
      "Sensible heat flux,  4.10 W/m²\n",
      "Latent heat flux, -56.93 W/m²\n",
      "Net longwave radiation, 18.37 W/m²\n",
      "Net heat flux, 171.25 W/m²\n",
      "Buoyancy flux, -0.000000133\n",
      "The Obhukov length is,  3.83 m\n"
     ]
    }
   ],
   "source": [
    "# Print results.\n",
    "print(\"Summary of fluxes defined as positive into the ocean:\")\n",
    "print(\"Sensible heat flux, %5.2f W/m²\" % (-Qsensible))\n",
    "print(\"Latent heat flux, %5.2f W/m²\" % (-Qlatent))\n",
    "print(\"Net longwave radiation, %5.2f W/m²\" % (-LWnet))\n",
    "print(\"Net heat flux, %5.2f W/m²\" % (Qnet))\n",
    "print(\"Buoyancy flux, %10.9f\" % (Bf))\n",
    "print(\"The Obhukov length is, %5.2f m\" % (L))\n"
   ]
  },
  {
   "cell_type": "code",
   "execution_count": null,
   "metadata": {},
   "outputs": [],
   "source": []
  }
 ],
 "metadata": {
  "kernelspec": {
   "display_name": "roms",
   "language": "python",
   "name": "python3"
  },
  "language_info": {
   "codemirror_mode": {
    "name": "ipython",
    "version": 3
   },
   "file_extension": ".py",
   "mimetype": "text/x-python",
   "name": "python",
   "nbconvert_exporter": "python",
   "pygments_lexer": "ipython3",
   "version": "3.10.6"
  },
  "orig_nbformat": 4
 },
 "nbformat": 4,
 "nbformat_minor": 2
}
