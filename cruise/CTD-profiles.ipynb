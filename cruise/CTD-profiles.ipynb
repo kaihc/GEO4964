{
 "cells": [
  {
   "cell_type": "code",
   "execution_count": 1,
   "metadata": {},
   "outputs": [],
   "source": [
    "%matplotlib inline"
   ]
  },
  {
   "attachments": {},
   "cell_type": "markdown",
   "metadata": {},
   "source": [
    "# Script to read and plot CTD profiles from the vessel Sea-bird instrument and the handheld CastAway instrument\n",
    "\n",
    "## Sea-bird CTD\n",
    "\n",
    "The ship-mounted CTD relies on a water pump for sampling, and the instrument is kept close to the surface for a while before and after profiling as the pump is manually started and stopped. The excess surface data have not been removed from the profiles, but feel free to do so. A tip: don't filter data based on the measured parameter such as salinity, but do it based on the depth data. The raw `HEX` data have been processed onboard to provide `ASCII` (see the `CNV` files), and I've used the `seabird` Python package to make `netCDF` files and along the way we lose the profile taken from the bottom and up (i.e. I think we do: it's the only reasonable thing to do since the instrument is mounted at the bottom of the frame, but note that you will get bonuspoints if you check my assumption using the raw data ;). The variables that are relevant here are `TEMP` - temperature, `PSAL` - salinity measured in practical salinity units, `DEPTH` - the depth in meters (defined as positive), and `sigma_t` - the density anomaly (see here: https://glossary.ametsoc.org/wiki/Sigma-t). **NOTE:** The station we call \\\"Nesodden E\\\" is called \\\"Oksenvallflua\\\" by the crew, and hence in the name of the `netCDF` file.\n",
    "\n",
    "## CastAway CTD\n",
    "\n",
    "The CastAway CTD uses bluetooth to connect to a PC in order to offload data. Sontek, the producer of the CastAway CTD, only provides a Windows program to accomplish this task, and hence there is no support for users of Linux or Mac. This situation is quite typical when it comes to hardware. Here, we have read and processed the data using the Sontek software, and we end up with single profiles in an `ASCII` file. The data are read into Python through the `ctd` library, which contains functions to interpret a variety of instruments.  \n",
    "\n"
   ]
  },
  {
   "cell_type": "code",
   "execution_count": 2,
   "metadata": {},
   "outputs": [],
   "source": [
    "from matplotlib import pyplot as plt\n",
    "import xarray as xr\n",
    "import ctd "
   ]
  },
  {
   "cell_type": "code",
   "execution_count": 3,
   "metadata": {},
   "outputs": [
    {
     "ename": "FileNotFoundError",
     "evalue": "[Errno 2] No such file or directory: b'/Users/kaihc/GEO4964/cruise/lysakerfjorden_1.nc'",
     "output_type": "error",
     "traceback": [
      "\u001b[0;31m---------------------------------------------------------------------------\u001b[0m",
      "\u001b[0;31mKeyError\u001b[0m                                  Traceback (most recent call last)",
      "File \u001b[0;32m/opt/homebrew/Caskroom/miniconda/base/envs/roms/lib/python3.10/site-packages/xarray/backends/file_manager.py:210\u001b[0m, in \u001b[0;36mCachingFileManager._acquire_with_cache_info\u001b[0;34m(self, needs_lock)\u001b[0m\n\u001b[1;32m    209\u001b[0m \u001b[39mtry\u001b[39;00m:\n\u001b[0;32m--> 210\u001b[0m     file \u001b[39m=\u001b[39m \u001b[39mself\u001b[39;49m\u001b[39m.\u001b[39;49m_cache[\u001b[39mself\u001b[39;49m\u001b[39m.\u001b[39;49m_key]\n\u001b[1;32m    211\u001b[0m \u001b[39mexcept\u001b[39;00m \u001b[39mKeyError\u001b[39;00m:\n",
      "File \u001b[0;32m/opt/homebrew/Caskroom/miniconda/base/envs/roms/lib/python3.10/site-packages/xarray/backends/lru_cache.py:56\u001b[0m, in \u001b[0;36mLRUCache.__getitem__\u001b[0;34m(self, key)\u001b[0m\n\u001b[1;32m     55\u001b[0m \u001b[39mwith\u001b[39;00m \u001b[39mself\u001b[39m\u001b[39m.\u001b[39m_lock:\n\u001b[0;32m---> 56\u001b[0m     value \u001b[39m=\u001b[39m \u001b[39mself\u001b[39;49m\u001b[39m.\u001b[39;49m_cache[key]\n\u001b[1;32m     57\u001b[0m     \u001b[39mself\u001b[39m\u001b[39m.\u001b[39m_cache\u001b[39m.\u001b[39mmove_to_end(key)\n",
      "\u001b[0;31mKeyError\u001b[0m: [<class 'netCDF4._netCDF4.Dataset'>, ('/Users/kaihc/GEO4964/cruise/lysakerfjorden_1.nc',), 'r', (('clobber', True), ('diskless', False), ('format', 'NETCDF4'), ('persist', False)), 'e1cb4fc7-01e9-4d95-bf27-d42254391264']",
      "\nDuring handling of the above exception, another exception occurred:\n",
      "\u001b[0;31mFileNotFoundError\u001b[0m                         Traceback (most recent call last)",
      "Cell \u001b[0;32mIn[3], line 2\u001b[0m\n\u001b[1;32m      1\u001b[0m \u001b[39m# Read profiles\u001b[39;00m\n\u001b[0;32m----> 2\u001b[0m lysaker1 \u001b[39m=\u001b[39m xr\u001b[39m.\u001b[39;49mopen_dataset(\u001b[39m'\u001b[39;49m\u001b[39mlysakerfjorden_1.nc\u001b[39;49m\u001b[39m'\u001b[39;49m)\n\u001b[1;32m      3\u001b[0m lysaker2 \u001b[39m=\u001b[39m xr\u001b[39m.\u001b[39mopen_dataset(\u001b[39m'\u001b[39m\u001b[39mlysakerfjorden_2.nc\u001b[39m\u001b[39m'\u001b[39m)\n\u001b[1;32m      4\u001b[0m nesoddenE1 \u001b[39m=\u001b[39m xr\u001b[39m.\u001b[39mopen_dataset(\u001b[39m'\u001b[39m\u001b[39moksenvallflua_1.nc\u001b[39m\u001b[39m'\u001b[39m)\n",
      "File \u001b[0;32m/opt/homebrew/Caskroom/miniconda/base/envs/roms/lib/python3.10/site-packages/xarray/backends/api.py:526\u001b[0m, in \u001b[0;36mopen_dataset\u001b[0;34m(filename_or_obj, engine, chunks, cache, decode_cf, mask_and_scale, decode_times, decode_timedelta, use_cftime, concat_characters, decode_coords, drop_variables, inline_array, backend_kwargs, **kwargs)\u001b[0m\n\u001b[1;32m    514\u001b[0m decoders \u001b[39m=\u001b[39m _resolve_decoders_kwargs(\n\u001b[1;32m    515\u001b[0m     decode_cf,\n\u001b[1;32m    516\u001b[0m     open_backend_dataset_parameters\u001b[39m=\u001b[39mbackend\u001b[39m.\u001b[39mopen_dataset_parameters,\n\u001b[0;32m   (...)\u001b[0m\n\u001b[1;32m    522\u001b[0m     decode_coords\u001b[39m=\u001b[39mdecode_coords,\n\u001b[1;32m    523\u001b[0m )\n\u001b[1;32m    525\u001b[0m overwrite_encoded_chunks \u001b[39m=\u001b[39m kwargs\u001b[39m.\u001b[39mpop(\u001b[39m\"\u001b[39m\u001b[39moverwrite_encoded_chunks\u001b[39m\u001b[39m\"\u001b[39m, \u001b[39mNone\u001b[39;00m)\n\u001b[0;32m--> 526\u001b[0m backend_ds \u001b[39m=\u001b[39m backend\u001b[39m.\u001b[39;49mopen_dataset(\n\u001b[1;32m    527\u001b[0m     filename_or_obj,\n\u001b[1;32m    528\u001b[0m     drop_variables\u001b[39m=\u001b[39;49mdrop_variables,\n\u001b[1;32m    529\u001b[0m     \u001b[39m*\u001b[39;49m\u001b[39m*\u001b[39;49mdecoders,\n\u001b[1;32m    530\u001b[0m     \u001b[39m*\u001b[39;49m\u001b[39m*\u001b[39;49mkwargs,\n\u001b[1;32m    531\u001b[0m )\n\u001b[1;32m    532\u001b[0m ds \u001b[39m=\u001b[39m _dataset_from_backend_dataset(\n\u001b[1;32m    533\u001b[0m     backend_ds,\n\u001b[1;32m    534\u001b[0m     filename_or_obj,\n\u001b[0;32m   (...)\u001b[0m\n\u001b[1;32m    542\u001b[0m     \u001b[39m*\u001b[39m\u001b[39m*\u001b[39mkwargs,\n\u001b[1;32m    543\u001b[0m )\n\u001b[1;32m    544\u001b[0m \u001b[39mreturn\u001b[39;00m ds\n",
      "File \u001b[0;32m/opt/homebrew/Caskroom/miniconda/base/envs/roms/lib/python3.10/site-packages/xarray/backends/netCDF4_.py:577\u001b[0m, in \u001b[0;36mNetCDF4BackendEntrypoint.open_dataset\u001b[0;34m(self, filename_or_obj, mask_and_scale, decode_times, concat_characters, decode_coords, drop_variables, use_cftime, decode_timedelta, group, mode, format, clobber, diskless, persist, lock, autoclose)\u001b[0m\n\u001b[1;32m    557\u001b[0m \u001b[39mdef\u001b[39;00m \u001b[39mopen_dataset\u001b[39m(\n\u001b[1;32m    558\u001b[0m     \u001b[39mself\u001b[39m,\n\u001b[1;32m    559\u001b[0m     filename_or_obj,\n\u001b[0;32m   (...)\u001b[0m\n\u001b[1;32m    574\u001b[0m     autoclose\u001b[39m=\u001b[39m\u001b[39mFalse\u001b[39;00m,\n\u001b[1;32m    575\u001b[0m ):\n\u001b[1;32m    576\u001b[0m     filename_or_obj \u001b[39m=\u001b[39m _normalize_path(filename_or_obj)\n\u001b[0;32m--> 577\u001b[0m     store \u001b[39m=\u001b[39m NetCDF4DataStore\u001b[39m.\u001b[39;49mopen(\n\u001b[1;32m    578\u001b[0m         filename_or_obj,\n\u001b[1;32m    579\u001b[0m         mode\u001b[39m=\u001b[39;49mmode,\n\u001b[1;32m    580\u001b[0m         \u001b[39mformat\u001b[39;49m\u001b[39m=\u001b[39;49m\u001b[39mformat\u001b[39;49m,\n\u001b[1;32m    581\u001b[0m         group\u001b[39m=\u001b[39;49mgroup,\n\u001b[1;32m    582\u001b[0m         clobber\u001b[39m=\u001b[39;49mclobber,\n\u001b[1;32m    583\u001b[0m         diskless\u001b[39m=\u001b[39;49mdiskless,\n\u001b[1;32m    584\u001b[0m         persist\u001b[39m=\u001b[39;49mpersist,\n\u001b[1;32m    585\u001b[0m         lock\u001b[39m=\u001b[39;49mlock,\n\u001b[1;32m    586\u001b[0m         autoclose\u001b[39m=\u001b[39;49mautoclose,\n\u001b[1;32m    587\u001b[0m     )\n\u001b[1;32m    589\u001b[0m     store_entrypoint \u001b[39m=\u001b[39m StoreBackendEntrypoint()\n\u001b[1;32m    590\u001b[0m     \u001b[39mwith\u001b[39;00m close_on_error(store):\n",
      "File \u001b[0;32m/opt/homebrew/Caskroom/miniconda/base/envs/roms/lib/python3.10/site-packages/xarray/backends/netCDF4_.py:382\u001b[0m, in \u001b[0;36mNetCDF4DataStore.open\u001b[0;34m(cls, filename, mode, format, group, clobber, diskless, persist, lock, lock_maker, autoclose)\u001b[0m\n\u001b[1;32m    376\u001b[0m kwargs \u001b[39m=\u001b[39m \u001b[39mdict\u001b[39m(\n\u001b[1;32m    377\u001b[0m     clobber\u001b[39m=\u001b[39mclobber, diskless\u001b[39m=\u001b[39mdiskless, persist\u001b[39m=\u001b[39mpersist, \u001b[39mformat\u001b[39m\u001b[39m=\u001b[39m\u001b[39mformat\u001b[39m\n\u001b[1;32m    378\u001b[0m )\n\u001b[1;32m    379\u001b[0m manager \u001b[39m=\u001b[39m CachingFileManager(\n\u001b[1;32m    380\u001b[0m     netCDF4\u001b[39m.\u001b[39mDataset, filename, mode\u001b[39m=\u001b[39mmode, kwargs\u001b[39m=\u001b[39mkwargs\n\u001b[1;32m    381\u001b[0m )\n\u001b[0;32m--> 382\u001b[0m \u001b[39mreturn\u001b[39;00m \u001b[39mcls\u001b[39;49m(manager, group\u001b[39m=\u001b[39;49mgroup, mode\u001b[39m=\u001b[39;49mmode, lock\u001b[39m=\u001b[39;49mlock, autoclose\u001b[39m=\u001b[39;49mautoclose)\n",
      "File \u001b[0;32m/opt/homebrew/Caskroom/miniconda/base/envs/roms/lib/python3.10/site-packages/xarray/backends/netCDF4_.py:329\u001b[0m, in \u001b[0;36mNetCDF4DataStore.__init__\u001b[0;34m(self, manager, group, mode, lock, autoclose)\u001b[0m\n\u001b[1;32m    327\u001b[0m \u001b[39mself\u001b[39m\u001b[39m.\u001b[39m_group \u001b[39m=\u001b[39m group\n\u001b[1;32m    328\u001b[0m \u001b[39mself\u001b[39m\u001b[39m.\u001b[39m_mode \u001b[39m=\u001b[39m mode\n\u001b[0;32m--> 329\u001b[0m \u001b[39mself\u001b[39m\u001b[39m.\u001b[39mformat \u001b[39m=\u001b[39m \u001b[39mself\u001b[39;49m\u001b[39m.\u001b[39;49mds\u001b[39m.\u001b[39mdata_model\n\u001b[1;32m    330\u001b[0m \u001b[39mself\u001b[39m\u001b[39m.\u001b[39m_filename \u001b[39m=\u001b[39m \u001b[39mself\u001b[39m\u001b[39m.\u001b[39mds\u001b[39m.\u001b[39mfilepath()\n\u001b[1;32m    331\u001b[0m \u001b[39mself\u001b[39m\u001b[39m.\u001b[39mis_remote \u001b[39m=\u001b[39m is_remote_uri(\u001b[39mself\u001b[39m\u001b[39m.\u001b[39m_filename)\n",
      "File \u001b[0;32m/opt/homebrew/Caskroom/miniconda/base/envs/roms/lib/python3.10/site-packages/xarray/backends/netCDF4_.py:391\u001b[0m, in \u001b[0;36mNetCDF4DataStore.ds\u001b[0;34m(self)\u001b[0m\n\u001b[1;32m    389\u001b[0m \u001b[39m@property\u001b[39m\n\u001b[1;32m    390\u001b[0m \u001b[39mdef\u001b[39;00m \u001b[39mds\u001b[39m(\u001b[39mself\u001b[39m):\n\u001b[0;32m--> 391\u001b[0m     \u001b[39mreturn\u001b[39;00m \u001b[39mself\u001b[39;49m\u001b[39m.\u001b[39;49m_acquire()\n",
      "File \u001b[0;32m/opt/homebrew/Caskroom/miniconda/base/envs/roms/lib/python3.10/site-packages/xarray/backends/netCDF4_.py:385\u001b[0m, in \u001b[0;36mNetCDF4DataStore._acquire\u001b[0;34m(self, needs_lock)\u001b[0m\n\u001b[1;32m    384\u001b[0m \u001b[39mdef\u001b[39;00m \u001b[39m_acquire\u001b[39m(\u001b[39mself\u001b[39m, needs_lock\u001b[39m=\u001b[39m\u001b[39mTrue\u001b[39;00m):\n\u001b[0;32m--> 385\u001b[0m     \u001b[39mwith\u001b[39;00m \u001b[39mself\u001b[39m\u001b[39m.\u001b[39m_manager\u001b[39m.\u001b[39macquire_context(needs_lock) \u001b[39mas\u001b[39;00m root:\n\u001b[1;32m    386\u001b[0m         ds \u001b[39m=\u001b[39m _nc4_require_group(root, \u001b[39mself\u001b[39m\u001b[39m.\u001b[39m_group, \u001b[39mself\u001b[39m\u001b[39m.\u001b[39m_mode)\n\u001b[1;32m    387\u001b[0m     \u001b[39mreturn\u001b[39;00m ds\n",
      "File \u001b[0;32m/opt/homebrew/Caskroom/miniconda/base/envs/roms/lib/python3.10/contextlib.py:135\u001b[0m, in \u001b[0;36m_GeneratorContextManager.__enter__\u001b[0;34m(self)\u001b[0m\n\u001b[1;32m    133\u001b[0m \u001b[39mdel\u001b[39;00m \u001b[39mself\u001b[39m\u001b[39m.\u001b[39margs, \u001b[39mself\u001b[39m\u001b[39m.\u001b[39mkwds, \u001b[39mself\u001b[39m\u001b[39m.\u001b[39mfunc\n\u001b[1;32m    134\u001b[0m \u001b[39mtry\u001b[39;00m:\n\u001b[0;32m--> 135\u001b[0m     \u001b[39mreturn\u001b[39;00m \u001b[39mnext\u001b[39;49m(\u001b[39mself\u001b[39;49m\u001b[39m.\u001b[39;49mgen)\n\u001b[1;32m    136\u001b[0m \u001b[39mexcept\u001b[39;00m \u001b[39mStopIteration\u001b[39;00m:\n\u001b[1;32m    137\u001b[0m     \u001b[39mraise\u001b[39;00m \u001b[39mRuntimeError\u001b[39;00m(\u001b[39m\"\u001b[39m\u001b[39mgenerator didn\u001b[39m\u001b[39m'\u001b[39m\u001b[39mt yield\u001b[39m\u001b[39m\"\u001b[39m) \u001b[39mfrom\u001b[39;00m \u001b[39mNone\u001b[39m\n",
      "File \u001b[0;32m/opt/homebrew/Caskroom/miniconda/base/envs/roms/lib/python3.10/site-packages/xarray/backends/file_manager.py:198\u001b[0m, in \u001b[0;36mCachingFileManager.acquire_context\u001b[0;34m(self, needs_lock)\u001b[0m\n\u001b[1;32m    195\u001b[0m \u001b[39m@contextlib\u001b[39m\u001b[39m.\u001b[39mcontextmanager\n\u001b[1;32m    196\u001b[0m \u001b[39mdef\u001b[39;00m \u001b[39macquire_context\u001b[39m(\u001b[39mself\u001b[39m, needs_lock\u001b[39m=\u001b[39m\u001b[39mTrue\u001b[39;00m):\n\u001b[1;32m    197\u001b[0m \u001b[39m    \u001b[39m\u001b[39m\"\"\"Context manager for acquiring a file.\"\"\"\u001b[39;00m\n\u001b[0;32m--> 198\u001b[0m     file, cached \u001b[39m=\u001b[39m \u001b[39mself\u001b[39;49m\u001b[39m.\u001b[39;49m_acquire_with_cache_info(needs_lock)\n\u001b[1;32m    199\u001b[0m     \u001b[39mtry\u001b[39;00m:\n\u001b[1;32m    200\u001b[0m         \u001b[39myield\u001b[39;00m file\n",
      "File \u001b[0;32m/opt/homebrew/Caskroom/miniconda/base/envs/roms/lib/python3.10/site-packages/xarray/backends/file_manager.py:216\u001b[0m, in \u001b[0;36mCachingFileManager._acquire_with_cache_info\u001b[0;34m(self, needs_lock)\u001b[0m\n\u001b[1;32m    214\u001b[0m     kwargs \u001b[39m=\u001b[39m kwargs\u001b[39m.\u001b[39mcopy()\n\u001b[1;32m    215\u001b[0m     kwargs[\u001b[39m\"\u001b[39m\u001b[39mmode\u001b[39m\u001b[39m\"\u001b[39m] \u001b[39m=\u001b[39m \u001b[39mself\u001b[39m\u001b[39m.\u001b[39m_mode\n\u001b[0;32m--> 216\u001b[0m file \u001b[39m=\u001b[39m \u001b[39mself\u001b[39;49m\u001b[39m.\u001b[39;49m_opener(\u001b[39m*\u001b[39;49m\u001b[39mself\u001b[39;49m\u001b[39m.\u001b[39;49m_args, \u001b[39m*\u001b[39;49m\u001b[39m*\u001b[39;49mkwargs)\n\u001b[1;32m    217\u001b[0m \u001b[39mif\u001b[39;00m \u001b[39mself\u001b[39m\u001b[39m.\u001b[39m_mode \u001b[39m==\u001b[39m \u001b[39m\"\u001b[39m\u001b[39mw\u001b[39m\u001b[39m\"\u001b[39m:\n\u001b[1;32m    218\u001b[0m     \u001b[39m# ensure file doesn't get overridden when opened again\u001b[39;00m\n\u001b[1;32m    219\u001b[0m     \u001b[39mself\u001b[39m\u001b[39m.\u001b[39m_mode \u001b[39m=\u001b[39m \u001b[39m\"\u001b[39m\u001b[39ma\u001b[39m\u001b[39m\"\u001b[39m\n",
      "File \u001b[0;32msrc/netCDF4/_netCDF4.pyx:2463\u001b[0m, in \u001b[0;36mnetCDF4._netCDF4.Dataset.__init__\u001b[0;34m()\u001b[0m\n",
      "File \u001b[0;32msrc/netCDF4/_netCDF4.pyx:2026\u001b[0m, in \u001b[0;36mnetCDF4._netCDF4._ensure_nc_success\u001b[0;34m()\u001b[0m\n",
      "\u001b[0;31mFileNotFoundError\u001b[0m: [Errno 2] No such file or directory: b'/Users/kaihc/GEO4964/cruise/lysakerfjorden_1.nc'"
     ]
    }
   ],
   "source": [
    "# Read profiles\n",
    "lysaker1 = xr.open_dataset('data/lysakerfjorden_1.nc')\n",
    "lysaker2 = xr.open_dataset('data/lysakerfjorden_2.nc')\n",
    "nesoddenE1 = xr.open_dataset('data/oksenvallflua_1.nc')\n",
    "nesoddenE2 = xr.open_dataset('data/oksenvallflua_2.nc')\n",
    "nesoddenW = xr.open_dataset('data/nesoddtangen_V.nc')"
   ]
  },
  {
   "attachments": {},
   "cell_type": "markdown",
   "metadata": {},
   "source": [
    "# Plotting\n",
    "\n",
    "## Difference between stations \n",
    "\n",
    "We plot the three first stations to show the differences in temperature, salinity and density at different positions from measurements taken fairly close in time. \n",
    "\n",
    "## Difference in time\n",
    "\n",
    "We have repeated stations at Lysaker and Nesodden E, and these are plotted on top of each other, focusing on the surface layer. For the repeated stations, I suggest you add plots of temperature and salinity as well. By visual comparison with the density profiles, what do you think is the primary cause of the differences? Salinity or temperature? I recommend also spending some effort on making TS diagrams of the profiles as these are usually very informative! (see e.g. https://github.com/larsonjl/earth_data_tools/tree/master/TS%20%20Plot%20Example).\n",
    "\n",
    "## Stratification and stability of the water column\n",
    "\n",
    "We hade drifters with drogues at about 1m, 3m, 5m, and 20m, which means that we can estimate the velocity shear $S = |du/dz|$ at the depths 2m, 4m, and 12.5 m (plus a few more levels if you combine them in different ways). What is the corresponding values of the buoyancy frequency $N$ at station Nesodden E? Here $$N² \\equiv -\\frac{g}{\\rho_0}\\frac{\\partial\\rho}{\\partial z}.$$ Recall that $\\rho_0 = 1000 + \\sigma_t$. What is the gradient Richardson number? $$\\mathrm{Ri} \\equiv \\frac{N²}{S²}.$$ Are there any major differences in your estimates if you use the density profiles from the first vs. the second visit to Nesodden E?\n"
   ]
  },
  {
   "cell_type": "code",
   "execution_count": null,
   "metadata": {},
   "outputs": [],
   "source": [
    "# Salinity\n",
    "plt.plot(lysaker1.PSAL, -lysaker1.DEPTH, label='Lysaker 1')\n",
    "plt.plot(nesoddenE1.PSAL, -nesoddenE1.DEPTH, label='Nesodden E 1')\n",
    "plt.plot(nesoddenW.PSAL, -nesoddenW.DEPTH, label='Nesodden W')\n",
    "plt.xlabel('Salinity [PSU]')\n",
    "plt.ylabel('Depth [m]')\n",
    "plt.axis([22, 33, -25, 0]) # Comment out this line to see the full profiles\n",
    "plt.legend()"
   ]
  },
  {
   "cell_type": "code",
   "execution_count": null,
   "metadata": {},
   "outputs": [],
   "source": [
    "# Temperature\n",
    "plt.plot(lysaker1.TEMP, -lysaker1.DEPTH, label='Lysaker 1')\n",
    "plt.plot(nesoddenE1.TEMP, -nesoddenE1.DEPTH, label='Nesodden E 1')\n",
    "plt.plot(nesoddenW.TEMP, -nesoddenW.DEPTH, label='Nesodden W')\n",
    "plt.xlabel('Temperature [C]')\n",
    "plt.ylabel('Depth [m]')\n",
    "plt.axis([6.5, 9, -25, 0]) # Comment out this line to see the full profiles\n",
    "plt.legend()"
   ]
  },
  {
   "cell_type": "code",
   "execution_count": null,
   "metadata": {},
   "outputs": [],
   "source": [
    "# Density anomaly\n",
    "plt.plot(lysaker1.sigma_t, -lysaker1.DEPTH, label='Lysaker 1')\n",
    "plt.plot(nesoddenE1.sigma_t, -nesoddenE1.DEPTH, label='Nesodden E 1')\n",
    "plt.plot(nesoddenW.sigma_t, -nesoddenW.DEPTH, label='Nesodden W')\n",
    "plt.xlabel('Density anomaly [kg/m³]')\n",
    "plt.ylabel('Depth [m]')\n",
    "plt.axis([17, 26, -25, 0]) # Comment out this line to see the full profiles\n",
    "plt.legend()"
   ]
  },
  {
   "cell_type": "code",
   "execution_count": null,
   "metadata": {},
   "outputs": [],
   "source": [
    "# Plot repeated stations\n",
    "plt.figure()\n",
    "plt.plot(lysaker1.sigma_t, -lysaker1.DEPTH, label='Lysaker 1')\n",
    "plt.plot(lysaker2.sigma_t, -lysaker2.DEPTH, label='Lysaker 2')\n",
    "plt.xlabel('Density anomaly [kg/m³]')\n",
    "plt.ylabel('Depth [m]')\n",
    "#plt.axis([17, 26, -25, 0]) # Comment out this line to see the full profiles\n",
    "plt.legend()\n",
    "\n",
    "plt.figure()\n",
    "plt.plot(nesoddenE1.sigma_t, -nesoddenE1.DEPTH, label='Nesodden E 1')\n",
    "plt.plot(nesoddenE2.sigma_t, -nesoddenE2.DEPTH, label='Nesodden E 2')\n",
    "plt.xlabel('Density anomaly [kg/m³]')\n",
    "plt.ylabel('Depth [m]')\n",
    "#plt.axis([17, 26, -25, 0]) # Comment out this line to see the full profiles\n",
    "plt.legend()"
   ]
  },
  {
   "attachments": {},
   "cell_type": "markdown",
   "metadata": {},
   "source": [
    "# Difference between instruments\n",
    "\n",
    "Below we show plots of temperature and salinity from both CTDs from two of the stations. The results are quite different and you should be able to come up with at least five candidate explanations."
   ]
  },
  {
   "cell_type": "code",
   "execution_count": null,
   "metadata": {},
   "outputs": [],
   "source": [
    "# Nesodden E 1\n",
    "ca_nesoddenE1, u = ctd.from_castaway_csv('data/CA_nesodden_E_1.csv').split()\n",
    "temp = ca_nesoddenE1['temperature']\n",
    "salt = ca_nesoddenE1['salinity']\n",
    "depth = ca_nesoddenE1['depth']\n",
    "\n",
    "plt.figure()\n",
    "plt.plot(temp,-depth, label='CastAway')\n",
    "plt.plot(nesoddenE1.TEMP, -nesoddenE1.DEPTH, label='Seabird')\n",
    "plt.legend()\n",
    "plt.title('Nesodden E 1')\n",
    "plt.xlabel('Temperature [C]')\n",
    "plt.ylabel('Depth [m]')\n",
    "\n",
    "plt.figure()\n",
    "plt.plot(salt,-depth, label='CastAway')\n",
    "plt.plot(nesoddenE1.PSAL, -nesoddenE1.DEPTH, label='Seabird')\n",
    "plt.legend()\n",
    "plt.title('Nesodden E 1')\n",
    "plt.xlabel('Salinity [PSU]')\n",
    "plt.ylabel('Depth [m]')"
   ]
  },
  {
   "cell_type": "code",
   "execution_count": null,
   "metadata": {},
   "outputs": [],
   "source": [
    "# Lysaker 2\n",
    "ca_lysaker2, u = ctd.from_castaway_csv('data/CA_lysaker_2.csv').split()\n",
    "temp = ca_lysaker2['temperature']\n",
    "salt = ca_lysaker2['salinity']\n",
    "depth = ca_lysaker2['depth']\n",
    "\n",
    "plt.figure()\n",
    "plt.plot(temp,-depth, label='CastAway')\n",
    "plt.plot(lysaker2.TEMP, -lysaker2.DEPTH, label='Seabird')\n",
    "plt.legend()\n",
    "plt.title('Lysaker 2')\n",
    "plt.xlabel('Temperature [C]')\n",
    "plt.ylabel('Depth [m]')\n",
    "\n",
    "plt.figure()\n",
    "plt.plot(salt,-depth, label='CastAway')\n",
    "plt.plot(lysaker2.PSAL, -lysaker2.DEPTH, label='Seabird')\n",
    "plt.legend()\n",
    "plt.title('Lysaker 2')\n",
    "plt.xlabel('Salinity [PSU]')\n",
    "plt.ylabel('Depth [m]')"
   ]
  },
  {
   "cell_type": "code",
   "execution_count": null,
   "metadata": {},
   "outputs": [],
   "source": []
  }
 ],
 "metadata": {
  "kernelspec": {
   "display_name": "roms",
   "language": "python",
   "name": "python3"
  },
  "language_info": {
   "codemirror_mode": {
    "name": "ipython",
    "version": 3
   },
   "file_extension": ".py",
   "mimetype": "text/x-python",
   "name": "python",
   "nbconvert_exporter": "python",
   "pygments_lexer": "ipython3",
   "version": "3.10.8"
  },
  "orig_nbformat": 4
 },
 "nbformat": 4,
 "nbformat_minor": 2
}
